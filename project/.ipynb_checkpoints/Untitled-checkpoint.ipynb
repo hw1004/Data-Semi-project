{
 "cells": [
  {
   "cell_type": "code",
   "execution_count": 2,
   "id": "c8e9c5ec-d383-4c27-8ca3-8612630b1185",
   "metadata": {},
   "outputs": [],
   "source": [
    "import pandas as pd\n",
    "import numpy as np\n",
    "import matplotlib.pyplot as plt\n",
    "import math\n",
    "import seaborn as sns"
   ]
  },
  {
   "cell_type": "code",
   "execution_count": 20,
   "id": "4243566a-c7f4-48f7-9c77-487d6bb258c6",
   "metadata": {},
   "outputs": [],
   "source": [
    "from IPython.core.interactiveshell import InteractiveShell\n",
    "InteractiveShell.ast_node_interactivity = \"all\""
   ]
  },
  {
   "cell_type": "code",
   "execution_count": 19,
   "id": "f2445d96-7088-44ef-9f45-86c7ac65222f",
   "metadata": {},
   "outputs": [],
   "source": [
    "# 한글 문제\n",
    "# matplotlit의 기본 폰트에서 한글 지원되지 않기 때문에\n",
    "# matplotlib의 폰트 변경 필요\n",
    "import platform\n",
    "\n",
    "from matplotlib import font_manager, rc\n",
    "plt.rcParams['axes.unicode_minus'] = False\n",
    "\n",
    "if platform.system() == 'Darwin':  # 맥OS \n",
    "    rc('font', family='AppleGothic')\n",
    "elif platform.system() == 'Windows':  # 윈도우\n",
    "    path = \"c:/Windows/Fonts/malgun.ttf\"\n",
    "    font_name = font_manager.FontProperties(fname=path).get_name()\n",
    "    rc('font', family=font_name)\n",
    "else:\n",
    "    print('Unknown system...  sorry~~~')"
   ]
  },
  {
   "cell_type": "code",
   "execution_count": 23,
   "id": "b2528a8d-23ca-48c8-864f-a2b2f89c127f",
   "metadata": {},
   "outputs": [],
   "source": [
    "df = pd.read_excel(\"C:/Users/USER/data_semi_project/project/services_priority.xlsx\")"
   ]
  },
  {
   "cell_type": "code",
   "execution_count": 40,
   "id": "952fbc8b-074e-4812-8f42-8af85e7c27b2",
   "metadata": {},
   "outputs": [
    {
     "data": {
      "text/plain": [
       "numpy.int64"
      ]
     },
     "execution_count": 40,
     "metadata": {},
     "output_type": "execute_result"
    }
   ],
   "source": [
    "type(df['연령대'][1])"
   ]
  },
  {
   "cell_type": "code",
   "execution_count": 24,
   "id": "5400acf7-a920-4328-9b1e-173febdf33c8",
   "metadata": {},
   "outputs": [
    {
     "data": {
      "text/html": [
       "<div>\n",
       "<style scoped>\n",
       "    .dataframe tbody tr th:only-of-type {\n",
       "        vertical-align: middle;\n",
       "    }\n",
       "\n",
       "    .dataframe tbody tr th {\n",
       "        vertical-align: top;\n",
       "    }\n",
       "\n",
       "    .dataframe thead th {\n",
       "        text-align: right;\n",
       "    }\n",
       "</style>\n",
       "<table border=\"1\" class=\"dataframe\">\n",
       "  <thead>\n",
       "    <tr style=\"text-align: right;\">\n",
       "      <th></th>\n",
       "      <th>Unnamed: 0</th>\n",
       "      <th>자치구</th>\n",
       "      <th>연령대</th>\n",
       "      <th>성별</th>\n",
       "      <th>1</th>\n",
       "      <th>2</th>\n",
       "      <th>3</th>\n",
       "      <th>4</th>\n",
       "      <th>5</th>\n",
       "      <th>6</th>\n",
       "      <th>7</th>\n",
       "    </tr>\n",
       "  </thead>\n",
       "  <tbody>\n",
       "    <tr>\n",
       "      <th>1</th>\n",
       "      <td>1</td>\n",
       "      <td>강남구</td>\n",
       "      <td>20</td>\n",
       "      <td>M</td>\n",
       "      <td>게임 서비스</td>\n",
       "      <td>유튜브</td>\n",
       "      <td>넷플릭스</td>\n",
       "      <td>동영상/방송 서비스</td>\n",
       "      <td>배달 서비스</td>\n",
       "      <td>금융 서비스</td>\n",
       "      <td>쇼핑 서비스</td>\n",
       "    </tr>\n",
       "  </tbody>\n",
       "</table>\n",
       "</div>"
      ],
      "text/plain": [
       "   Unnamed: 0  자치구  연령대 성별       1    2     3           4       5       6  \\\n",
       "1           1  강남구   20  M  게임 서비스  유튜브  넷플릭스  동영상/방송 서비스  배달 서비스  금융 서비스   \n",
       "\n",
       "        7  \n",
       "1  쇼핑 서비스  "
      ]
     },
     "execution_count": 24,
     "metadata": {},
     "output_type": "execute_result"
    }
   ],
   "source": [
    "for i in range(300):\n",
    "    if (df.loc[i, '자치구'] == '강남구') & (df.loc[i, '성별'] == 'M') & (df.loc[i, '연령대'] == 20):\n",
    "        target = df.loc[[i]]\n",
    "\n",
    "target"
   ]
  },
  {
   "cell_type": "code",
   "execution_count": 25,
   "id": "cbc32ac4-7e61-4c47-8c94-4ef043be0978",
   "metadata": {},
   "outputs": [
    {
     "data": {
      "text/html": [
       "<div>\n",
       "<style scoped>\n",
       "    .dataframe tbody tr th:only-of-type {\n",
       "        vertical-align: middle;\n",
       "    }\n",
       "\n",
       "    .dataframe tbody tr th {\n",
       "        vertical-align: top;\n",
       "    }\n",
       "\n",
       "    .dataframe thead th {\n",
       "        text-align: right;\n",
       "    }\n",
       "</style>\n",
       "<table border=\"1\" class=\"dataframe\">\n",
       "  <thead>\n",
       "    <tr style=\"text-align: right;\">\n",
       "      <th></th>\n",
       "      <th>1</th>\n",
       "      <th>2</th>\n",
       "      <th>3</th>\n",
       "      <th>4</th>\n",
       "      <th>5</th>\n",
       "      <th>6</th>\n",
       "      <th>7</th>\n",
       "    </tr>\n",
       "  </thead>\n",
       "  <tbody>\n",
       "    <tr>\n",
       "      <th>1</th>\n",
       "      <td>게임 서비스</td>\n",
       "      <td>유튜브</td>\n",
       "      <td>넷플릭스</td>\n",
       "      <td>동영상/방송 서비스</td>\n",
       "      <td>배달 서비스</td>\n",
       "      <td>금융 서비스</td>\n",
       "      <td>쇼핑 서비스</td>\n",
       "    </tr>\n",
       "  </tbody>\n",
       "</table>\n",
       "</div>"
      ],
      "text/plain": [
       "        1    2     3           4       5       6       7\n",
       "1  게임 서비스  유튜브  넷플릭스  동영상/방송 서비스  배달 서비스  금융 서비스  쇼핑 서비스"
      ]
     },
     "execution_count": 25,
     "metadata": {},
     "output_type": "execute_result"
    }
   ],
   "source": [
    "service_data = target.iloc[:, 4:]\n",
    "service_data"
   ]
  },
  {
   "cell_type": "code",
   "execution_count": 33,
   "id": "98342b59-6a41-45ad-b335-db8c30c74d8f",
   "metadata": {},
   "outputs": [
    {
     "data": {
      "text/plain": [
       "['1순위: 게임 서비스',\n",
       " '2순위: 유튜브',\n",
       " '3순위: 넷플릭스',\n",
       " '4순위: 동영상/방송 서비스',\n",
       " '5순위: 배달 서비스',\n",
       " '6순위: 금융 서비스',\n",
       " '7순위: 쇼핑 서비스']"
      ]
     },
     "execution_count": 33,
     "metadata": {},
     "output_type": "execute_result"
    }
   ],
   "source": [
    "services = []\n",
    "values = []\n",
    "for i, (service, value) in enumerate(service_data.items(), start=1):\n",
    "    value = value.loc[1]\n",
    "    services.append(f'{i}순위: {value}')  # 순위를 추가하여 출력\n",
    "    values.append(value)\n",
    "\n",
    "services"
   ]
  },
  {
   "cell_type": "code",
   "execution_count": null,
   "id": "2db67e1e-fbdc-4415-bcbf-92449e530634",
   "metadata": {},
   "outputs": [],
   "source": []
  }
 ],
 "metadata": {
  "kernelspec": {
   "display_name": "Python 3 (ipykernel)",
   "language": "python",
   "name": "python3"
  },
  "language_info": {
   "codemirror_mode": {
    "name": "ipython",
    "version": 3
   },
   "file_extension": ".py",
   "mimetype": "text/x-python",
   "name": "python",
   "nbconvert_exporter": "python",
   "pygments_lexer": "ipython3",
   "version": "3.10.11"
  }
 },
 "nbformat": 4,
 "nbformat_minor": 5
}
